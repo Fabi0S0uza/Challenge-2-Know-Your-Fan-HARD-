{
  "cells": [
    {
      "cell_type": "code",
      "source": [
        "!pip install matplotlib-venn\n",
        "!pip install pytesseract\n"
      ],
      "metadata": {
        "id": "AD4hIT2oPBNK",
        "collapsed": true
      },
      "id": "AD4hIT2oPBNK",
      "execution_count": null,
      "outputs": []
    },
    {
      "cell_type": "code",
      "source": [
        "!apt-get -qq install -y libfluidsynth1"
      ],
      "metadata": {
        "id": "j4T-Y7OCPCZ-",
        "collapsed": true
      },
      "id": "j4T-Y7OCPCZ-",
      "execution_count": null,
      "outputs": []
    },
    {
      "cell_type": "markdown",
      "id": "9aed4439",
      "metadata": {
        "id": "9aed4439"
      },
      "source": [
        "# 🎮 Know Your Fan - Solução Interativa com Python\n",
        "### Autor: Fabio Souza de Morais Filho\n",
        "\n",
        "Este notebook demonstra uma solução para o desafio **Know Your Fan**, focada em capturar e analisar informações de um fã de e-sports, utilizando tecnologias de coleta de dados, processamento de imagens com OCR, e simulação de validações com IA.\n",
        "\n",
        "A proposta simula como clubes e organizações podem conhecer melhor seus fãs para oferecer experiências personalizadas.\n",
        "\n",
        "---"
      ]
    },
    {
      "cell_type": "markdown",
      "id": "69de7bb9",
      "metadata": {
        "id": "69de7bb9"
      },
      "source": [
        "## 🧾 1. Coleta de Dados Básicos do Fã"
      ]
    },
    {
      "cell_type": "code",
      "execution_count": null,
      "id": "67a213c8",
      "metadata": {
        "colab": {
          "base_uri": "https://localhost:8080/"
        },
        "id": "67a213c8",
        "outputId": "75f4540b-60ed-4f1e-defb-336afdff61d0"
      },
      "outputs": [
        {
          "name": "stdout",
          "output_type": "stream",
          "text": [
            "Nome completo: Fabio Souza\n",
            "CPF sem pontuação: 50641210833\n",
            "Endereço completo: rua soares\n",
            "Email: fabiosouzamoraisdeveloper@gmail.com\n",
            "Telefone: 11985285564\n",
            "Quais jogos você mais acompanha? (Ex: CS:GO, Valorant, LoL): CS2\n",
            "Quais eventos de e-sports você participou no último ano?: Nenhum\n",
            "Compras feitas relacionadas a e-sports (camisas, ingressos etc.): camisas\n"
          ]
        }
      ],
      "source": [
        "nome = input(\"Nome completo: \")\n",
        "cpf = input(\"CPF sem pontuação: \")\n",
        "endereco = input(\"Endereço completo: \")\n",
        "email = input(\"Email: \")\n",
        "telefone = input(\"Telefone: \")\n",
        "jogos = input(\"Quais jogos você mais acompanha? (Ex: CS:GO, Valorant, LoL): \")\n",
        "eventos = input(\"Quais eventos de e-sports você participou no último ano?: \")\n",
        "compras = input(\"Compras feitas relacionadas a e-sports (camisas, ingressos etc.): \")"
      ]
    },
    {
      "cell_type": "markdown",
      "id": "1fb6ad6d",
      "metadata": {
        "id": "1fb6ad6d"
      },
      "source": [
        "## 📎 2. Upload e Validação de Documento com OCR"
      ]
    },
    {
      "cell_type": "code",
      "execution_count": null,
      "id": "1de5a9dc",
      "metadata": {
        "colab": {
          "base_uri": "https://localhost:8080/",
          "height": 488
        },
        "id": "1de5a9dc",
        "outputId": "a75f15f0-610d-4208-c94a-7ea81f152b97"
      },
      "outputs": [
        {
          "output_type": "stream",
          "name": "stdout",
          "text": [
            "📄 Faça o upload do documento com o CPF...\n"
          ]
        },
        {
          "output_type": "display_data",
          "data": {
            "text/plain": [
              "<IPython.core.display.HTML object>"
            ],
            "text/html": [
              "\n",
              "     <input type=\"file\" id=\"files-365d5c45-14f6-4922-8f68-db3df5bb11e1\" name=\"files[]\" multiple disabled\n",
              "        style=\"border:none\" />\n",
              "     <output id=\"result-365d5c45-14f6-4922-8f68-db3df5bb11e1\">\n",
              "      Upload widget is only available when the cell has been executed in the\n",
              "      current browser session. Please rerun this cell to enable.\n",
              "      </output>\n",
              "      <script>// Copyright 2017 Google LLC\n",
              "//\n",
              "// Licensed under the Apache License, Version 2.0 (the \"License\");\n",
              "// you may not use this file except in compliance with the License.\n",
              "// You may obtain a copy of the License at\n",
              "//\n",
              "//      http://www.apache.org/licenses/LICENSE-2.0\n",
              "//\n",
              "// Unless required by applicable law or agreed to in writing, software\n",
              "// distributed under the License is distributed on an \"AS IS\" BASIS,\n",
              "// WITHOUT WARRANTIES OR CONDITIONS OF ANY KIND, either express or implied.\n",
              "// See the License for the specific language governing permissions and\n",
              "// limitations under the License.\n",
              "\n",
              "/**\n",
              " * @fileoverview Helpers for google.colab Python module.\n",
              " */\n",
              "(function(scope) {\n",
              "function span(text, styleAttributes = {}) {\n",
              "  const element = document.createElement('span');\n",
              "  element.textContent = text;\n",
              "  for (const key of Object.keys(styleAttributes)) {\n",
              "    element.style[key] = styleAttributes[key];\n",
              "  }\n",
              "  return element;\n",
              "}\n",
              "\n",
              "// Max number of bytes which will be uploaded at a time.\n",
              "const MAX_PAYLOAD_SIZE = 100 * 1024;\n",
              "\n",
              "function _uploadFiles(inputId, outputId) {\n",
              "  const steps = uploadFilesStep(inputId, outputId);\n",
              "  const outputElement = document.getElementById(outputId);\n",
              "  // Cache steps on the outputElement to make it available for the next call\n",
              "  // to uploadFilesContinue from Python.\n",
              "  outputElement.steps = steps;\n",
              "\n",
              "  return _uploadFilesContinue(outputId);\n",
              "}\n",
              "\n",
              "// This is roughly an async generator (not supported in the browser yet),\n",
              "// where there are multiple asynchronous steps and the Python side is going\n",
              "// to poll for completion of each step.\n",
              "// This uses a Promise to block the python side on completion of each step,\n",
              "// then passes the result of the previous step as the input to the next step.\n",
              "function _uploadFilesContinue(outputId) {\n",
              "  const outputElement = document.getElementById(outputId);\n",
              "  const steps = outputElement.steps;\n",
              "\n",
              "  const next = steps.next(outputElement.lastPromiseValue);\n",
              "  return Promise.resolve(next.value.promise).then((value) => {\n",
              "    // Cache the last promise value to make it available to the next\n",
              "    // step of the generator.\n",
              "    outputElement.lastPromiseValue = value;\n",
              "    return next.value.response;\n",
              "  });\n",
              "}\n",
              "\n",
              "/**\n",
              " * Generator function which is called between each async step of the upload\n",
              " * process.\n",
              " * @param {string} inputId Element ID of the input file picker element.\n",
              " * @param {string} outputId Element ID of the output display.\n",
              " * @return {!Iterable<!Object>} Iterable of next steps.\n",
              " */\n",
              "function* uploadFilesStep(inputId, outputId) {\n",
              "  const inputElement = document.getElementById(inputId);\n",
              "  inputElement.disabled = false;\n",
              "\n",
              "  const outputElement = document.getElementById(outputId);\n",
              "  outputElement.innerHTML = '';\n",
              "\n",
              "  const pickedPromise = new Promise((resolve) => {\n",
              "    inputElement.addEventListener('change', (e) => {\n",
              "      resolve(e.target.files);\n",
              "    });\n",
              "  });\n",
              "\n",
              "  const cancel = document.createElement('button');\n",
              "  inputElement.parentElement.appendChild(cancel);\n",
              "  cancel.textContent = 'Cancel upload';\n",
              "  const cancelPromise = new Promise((resolve) => {\n",
              "    cancel.onclick = () => {\n",
              "      resolve(null);\n",
              "    };\n",
              "  });\n",
              "\n",
              "  // Wait for the user to pick the files.\n",
              "  const files = yield {\n",
              "    promise: Promise.race([pickedPromise, cancelPromise]),\n",
              "    response: {\n",
              "      action: 'starting',\n",
              "    }\n",
              "  };\n",
              "\n",
              "  cancel.remove();\n",
              "\n",
              "  // Disable the input element since further picks are not allowed.\n",
              "  inputElement.disabled = true;\n",
              "\n",
              "  if (!files) {\n",
              "    return {\n",
              "      response: {\n",
              "        action: 'complete',\n",
              "      }\n",
              "    };\n",
              "  }\n",
              "\n",
              "  for (const file of files) {\n",
              "    const li = document.createElement('li');\n",
              "    li.append(span(file.name, {fontWeight: 'bold'}));\n",
              "    li.append(span(\n",
              "        `(${file.type || 'n/a'}) - ${file.size} bytes, ` +\n",
              "        `last modified: ${\n",
              "            file.lastModifiedDate ? file.lastModifiedDate.toLocaleDateString() :\n",
              "                                    'n/a'} - `));\n",
              "    const percent = span('0% done');\n",
              "    li.appendChild(percent);\n",
              "\n",
              "    outputElement.appendChild(li);\n",
              "\n",
              "    const fileDataPromise = new Promise((resolve) => {\n",
              "      const reader = new FileReader();\n",
              "      reader.onload = (e) => {\n",
              "        resolve(e.target.result);\n",
              "      };\n",
              "      reader.readAsArrayBuffer(file);\n",
              "    });\n",
              "    // Wait for the data to be ready.\n",
              "    let fileData = yield {\n",
              "      promise: fileDataPromise,\n",
              "      response: {\n",
              "        action: 'continue',\n",
              "      }\n",
              "    };\n",
              "\n",
              "    // Use a chunked sending to avoid message size limits. See b/62115660.\n",
              "    let position = 0;\n",
              "    do {\n",
              "      const length = Math.min(fileData.byteLength - position, MAX_PAYLOAD_SIZE);\n",
              "      const chunk = new Uint8Array(fileData, position, length);\n",
              "      position += length;\n",
              "\n",
              "      const base64 = btoa(String.fromCharCode.apply(null, chunk));\n",
              "      yield {\n",
              "        response: {\n",
              "          action: 'append',\n",
              "          file: file.name,\n",
              "          data: base64,\n",
              "        },\n",
              "      };\n",
              "\n",
              "      let percentDone = fileData.byteLength === 0 ?\n",
              "          100 :\n",
              "          Math.round((position / fileData.byteLength) * 100);\n",
              "      percent.textContent = `${percentDone}% done`;\n",
              "\n",
              "    } while (position < fileData.byteLength);\n",
              "  }\n",
              "\n",
              "  // All done.\n",
              "  yield {\n",
              "    response: {\n",
              "      action: 'complete',\n",
              "    }\n",
              "  };\n",
              "}\n",
              "\n",
              "scope.google = scope.google || {};\n",
              "scope.google.colab = scope.google.colab || {};\n",
              "scope.google.colab._files = {\n",
              "  _uploadFiles,\n",
              "  _uploadFilesContinue,\n",
              "};\n",
              "})(self);\n",
              "</script> "
            ]
          },
          "metadata": {}
        },
        {
          "output_type": "stream",
          "name": "stdout",
          "text": [
            "Saving Imagem do WhatsApp de 2025-05-03 à(s) 23.54.17_1c4d80fb.jpg to Imagem do WhatsApp de 2025-05-03 à(s) 23.54.17_1c4d80fb (2).jpg\n",
            "\n",
            "Texto extraído:\n",
            " Ministério da Fazenda\n",
            "\n",
            "Receita Federal\n",
            "COMPROVANTE DE INSCRIGAO CPF\n",
            "\n",
            " \n",
            "\n",
            "Numero\n",
            "\n",
            "506.412.108-33\n",
            "\n",
            "Nome -:\n",
            "FABIO SOUZA DE MORAIS FILHO\n",
            "\n",
            "Nascimento\n",
            "\n",
            "07/06/2005\n",
            "eee\n",
            "\f\n",
            "\n",
            "✅ Documento validado com sucesso!\n"
          ]
        }
      ],
      "source": [
        "import re\n",
        "from google.colab import files\n",
        "from PIL import Image\n",
        "import pytesseract\n",
        "\n",
        "\n",
        "\n",
        "# Upload do documento com imagem do CPF\n",
        "print(\"📄 Faça o upload do documento com o CPF...\")\n",
        "uploaded = files.upload()\n",
        "filename = list(uploaded.keys())[0]\n",
        "image = Image.open(filename)\n",
        "\n",
        "# Extração de texto com OCR\n",
        "text = pytesseract.image_to_string(image)\n",
        "print(\"\\nTexto extraído:\\n\", text)\n",
        "\n",
        "# Buscar o CPF no texto (formato ###.###.###-##)\n",
        "match = re.search(r'\\d{3}\\.\\d{3}\\.\\d{3}-\\d{2}', text)\n",
        "cpf_extraido = re.sub(r'\\D', '', match.group()) if match else ''\n",
        "\n",
        "# Validação\n",
        "if nome.lower() in text.lower() and cpf == cpf_extraido:\n",
        "    print(\"\\n✅ Documento validado com sucesso!\")\n",
        "else:\n",
        "    print(\"\\n⚠️ Documento não parece válido. Verifique os dados e tente novamente.\")\n"
      ]
    },
    {
      "cell_type": "markdown",
      "id": "88aca066",
      "metadata": {
        "id": "88aca066"
      },
      "source": [
        "## 🌐 3. Redes Sociais e Atividades Online"
      ]
    },
    {
      "cell_type": "code",
      "execution_count": null,
      "id": "c0c98752",
      "metadata": {
        "id": "c0c98752",
        "colab": {
          "base_uri": "https://localhost:8080/"
        },
        "outputId": "11f36b8a-d887-4897-8adb-152fee3c4b15"
      },
      "outputs": [
        {
          "name": "stdout",
          "output_type": "stream",
          "text": [
            "Link do seu Twitter: \n",
            "Link do seu Twitch: \n",
            "Cole aqui outros links de perfil (ex: Liquipedia, HLTV): \n"
          ]
        }
      ],
      "source": [
        "twitter = input(\"Link do seu Twitter: \")\n",
        "twitch = input(\"Link do seu Twitch: \")\n",
        "outros_links = input(\"Cole aqui outros links de perfil (ex: Liquipedia, HLTV): \")"
      ]
    },
    {
      "cell_type": "markdown",
      "id": "57153814",
      "metadata": {
        "id": "57153814"
      },
      "source": [
        "## 🤖 4. Validação de Relevância com IA (Simulada)"
      ]
    },
    {
      "cell_type": "code",
      "execution_count": null,
      "id": "7769c892",
      "metadata": {
        "id": "7769c892",
        "colab": {
          "base_uri": "https://localhost:8080/"
        },
        "outputId": "2fd181b0-14b7-4981-a083-0feff56429c0"
      },
      "outputs": [
        {
          "output_type": "stream",
          "name": "stdout",
          "text": [
            "Descreva brevemente o conteúdo de seus perfis em redes e sites: souza fan da furia, adoro jogar cs\n",
            "✅ Perfis relevantes para o universo e-sports identificados.\n"
          ]
        }
      ],
      "source": [
        "# Palavras-chave relacionadas a e-sports\n",
        "palavras_chave = ['furia', 'cs:go', 'valorant', 'lol', 'esports', 'campeonato']\n",
        "conteudo_simulado = input(\"Descreva brevemente o conteúdo de seus perfis em redes e sites: \").lower()\n",
        "\n",
        "# Verificação de relevância\n",
        "relevancia = any(palavra in conteudo_simulado for palavra in palavras_chave)\n",
        "if relevancia:\n",
        "    print(\"✅ Perfis relevantes para o universo e-sports identificados.\")\n",
        "else:\n",
        "    print(\"⚠️ Não foi possível verificar relevância com base na descrição fornecida.\")"
      ]
    },
    {
      "cell_type": "markdown",
      "id": "c1fbe3ed",
      "metadata": {
        "id": "c1fbe3ed"
      },
      "source": [
        "## 🧠 5. Storytelling Profissional\n",
        "\n",
        "Como fã de e-sports desde a adolescência, participei de campeonatos locais, segui equipes como a FURIA e investi em produtos e experiências relacionados ao cenário competitivo. Ao desenvolver esta solução, utilizei meus conhecimentos em **engenharia de software**, aplicando práticas como entrada de dados segura, processamento de imagem com OCR e simulação de IA baseada em palavras-chave.\n",
        "\n",
        "Esta solução representa meu potencial técnico e minha paixão por criar experiências digitais inteligentes e conectadas à realidade do usuário final.\n",
        "\n",
        "---\n",
        "### ✅ Conclusão\n",
        "Com esta solução, é possível iniciar a construção de um sistema de CRM voltado para fãs de e-sports, utilizando tecnologias acessíveis e práticas escaláveis. Com mais tempo e recursos, poderíamos integrar APIs de redes sociais, banco de dados, autenticação real com reconhecimento facial, e dashboards com Power BI.\n"
      ]
    },
    {
      "cell_type": "markdown",
      "id": "526382e4",
      "metadata": {
        "id": "526382e4"
      },
      "source": [
        "## 📌 Instruções para Execução\n",
        "1. Execute as células em ordem.\n",
        "2. Envie um documento que contenha seu nome e CPF.\n",
        "3. Preencha os dados com atenção.\n",
        "4. Descreva seus perfis e links com clareza.\n",
        "\n",
        "---\n",
        "### Obrigado pela oportunidade! 💼"
      ]
    }
  ],
  "metadata": {
    "kernelspec": {
      "display_name": "base",
      "language": "python",
      "name": "python3"
    },
    "language_info": {
      "codemirror_mode": {
        "name": "ipython",
        "version": 3
      },
      "file_extension": ".py",
      "mimetype": "text/x-python",
      "name": "python",
      "nbconvert_exporter": "python",
      "pygments_lexer": "ipython3",
      "version": "3.12.7"
    },
    "colab": {
      "provenance": []
    }
  },
  "nbformat": 4,
  "nbformat_minor": 5
}